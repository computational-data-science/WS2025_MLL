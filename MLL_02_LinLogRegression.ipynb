{
 "cells": [
  {
   "cell_type": "code",
   "execution_count": null,
   "id": "2c30d564-c260-49e2-924c-357d206d68ee",
   "metadata": {},
   "outputs": [],
   "source": [
    "import pandas as pd\n",
    "import numpy as np\n",
    "import seaborn as sns\n",
    "import matplotlib.pyplot as plt\n",
    "\n",
    "from sklearn.model_selection import train_test_split\n",
    "from sklearn.linear_model import LinearRegression, LogisticRegression\n",
    "from sklearn.metrics import mean_squared_error, r2_score, accuracy_score, confusion_matrix"
   ]
  },
  {
   "cell_type": "code",
   "execution_count": null,
   "id": "4085fe06-ded5-44e2-8c12-cc6270eed192",
   "metadata": {},
   "outputs": [],
   "source": [
    "df = sns.load_dataset('titanic')\n",
    "\n",
    "df.head(20)"
   ]
  },
  {
   "cell_type": "markdown",
   "id": "51a17d94-5c1e-4d18-b0d8-b74fd3f3f8de",
   "metadata": {},
   "source": [
    "## EDA"
   ]
  },
  {
   "cell_type": "code",
   "execution_count": null,
   "id": "ac14cef7-0c5b-41dd-90ff-a9726ff40b86",
   "metadata": {},
   "outputs": [],
   "source": [
    "df.shape"
   ]
  },
  {
   "cell_type": "code",
   "execution_count": null,
   "id": "8d79b441-dbc0-439d-8608-ec89a04feea1",
   "metadata": {},
   "outputs": [],
   "source": [
    "df.info()"
   ]
  },
  {
   "cell_type": "code",
   "execution_count": null,
   "id": "2e3d15ef-e0de-466e-8ee5-5366367ac9ca",
   "metadata": {},
   "outputs": [],
   "source": [
    "df.dtypes"
   ]
  },
  {
   "cell_type": "code",
   "execution_count": null,
   "id": "642d0ee9-3ece-4b52-becd-e00eec5f6d36",
   "metadata": {},
   "outputs": [],
   "source": [
    "df.isnull().sum()"
   ]
  },
  {
   "cell_type": "code",
   "execution_count": null,
   "id": "fd44748e-fa25-4e94-abcd-986bc3c55a87",
   "metadata": {},
   "outputs": [],
   "source": [
    "df.describe()"
   ]
  },
  {
   "cell_type": "code",
   "execution_count": null,
   "id": "168ca76b-6ce7-41ad-b113-71e28c37545b",
   "metadata": {},
   "outputs": [],
   "source": [
    "sns.countplot(data=df, x=\"survived\")\n",
    "plt.title(\"Survival Count\")"
   ]
  },
  {
   "cell_type": "code",
   "execution_count": null,
   "id": "9b530135-f131-459c-8c43-13ea442c4a50",
   "metadata": {},
   "outputs": [],
   "source": [
    "numeric_cols = [\"age\", \"fare\", \"sibsp\", \"parch\"]\n",
    "\n",
    "df[numeric_cols].hist(bins=30, figsize=(12, 8))\n",
    "plt.suptitle(\"Distribution of Numeric Features\")\n",
    "plt.tight_layout()\n",
    "plt.show()"
   ]
  },
  {
   "cell_type": "code",
   "execution_count": null,
   "id": "2eb512b4-599c-4c56-8858-dc1e9c6ba546",
   "metadata": {},
   "outputs": [],
   "source": [
    "for col in numeric_cols:\n",
    "    sns.boxplot(x=df[col])\n",
    "    plt.title(f\"Boxplot of {col}\")\n",
    "    plt.show()"
   ]
  },
  {
   "cell_type": "code",
   "execution_count": null,
   "id": "60f67dc7-f02a-4cd3-9f48-a86a8fcf7abb",
   "metadata": {},
   "outputs": [],
   "source": [
    "categorical_cols = [\"sex\", \"pclass\", \"embarked\", \"alone\"]\n",
    "\n",
    "for col in categorical_cols:\n",
    "    sns.countplot(data=df, x=col)\n",
    "    plt.title(f\"Countplot of {col}\")\n",
    "    plt.show()"
   ]
  },
  {
   "cell_type": "code",
   "execution_count": null,
   "id": "81eccdbc-8fac-417f-9934-37008e9ce7f1",
   "metadata": {},
   "outputs": [],
   "source": [
    "df.hist(bins=30, figsize=(12, 8))\n",
    "plt.tight_layout()\n",
    "plt.show()"
   ]
  },
  {
   "cell_type": "code",
   "execution_count": null,
   "id": "543cb5f2-0589-4fe6-9cda-651b5601b4e1",
   "metadata": {},
   "outputs": [],
   "source": [
    "for col in numeric_cols:\n",
    "    sns.histplot(data=df, x=col, hue=\"survived\", element=\"step\", stat=\"density\", common_norm=False)\n",
    "    plt.title(f\"{col} by Survival\")\n",
    "    plt.show()"
   ]
  },
  {
   "cell_type": "code",
   "execution_count": null,
   "id": "f07bd803-b712-41c6-9feb-2f10f17fc6ef",
   "metadata": {},
   "outputs": [],
   "source": [
    "sns.heatmap(df.corr(numeric_only=True), annot=True, cmap=\"coolwarm\")"
   ]
  },
  {
   "cell_type": "code",
   "execution_count": null,
   "id": "65e5c3c3-3ed6-471d-a798-61aef390e736",
   "metadata": {},
   "outputs": [],
   "source": [
    "sns.pairplot(df)"
   ]
  },
  {
   "cell_type": "code",
   "execution_count": null,
   "id": "58d95916-b708-418b-9fc1-b8d7562db74d",
   "metadata": {},
   "outputs": [],
   "source": [
    "sns.pairplot(df, hue=\"survived\")"
   ]
  },
  {
   "cell_type": "code",
   "execution_count": null,
   "id": "25fdb57c-1ef8-41cd-a779-6b779a946b93",
   "metadata": {},
   "outputs": [],
   "source": [
    "for col in categorical_cols:\n",
    "    sns.countplot(data=df, x=col, hue=\"survived\")\n",
    "    plt.title(f\"{col} vs. Survival\")\n",
    "    plt.show()"
   ]
  },
  {
   "cell_type": "code",
   "execution_count": null,
   "id": "35561f0f-1be2-4e0f-bbf3-56ed15d925f8",
   "metadata": {},
   "outputs": [],
   "source": []
  },
  {
   "cell_type": "markdown",
   "id": "76ddac59-ad1d-45b3-9712-8a3dfeac31da",
   "metadata": {},
   "source": [
    "## Modelle"
   ]
  },
  {
   "cell_type": "code",
   "execution_count": null,
   "id": "41ae59ba-0091-415b-90df-85be87f91b8b",
   "metadata": {},
   "outputs": [],
   "source": [
    "target = \"survived\"\n",
    "features = [\"pclass\", \"age\", \"fare\"]\n",
    "\n",
    "X = df[features]\n",
    "y = df[target]"
   ]
  },
  {
   "cell_type": "code",
   "execution_count": null,
   "id": "2caa98ad-693b-4edc-bdd9-32a1c7a1eac8",
   "metadata": {},
   "outputs": [],
   "source": [
    "X_train, X_test, y_train, y_test = train_test_split(X, y, test_size=0.2, random_state=42)"
   ]
  },
  {
   "cell_type": "code",
   "execution_count": null,
   "id": "e93ca20b-fcb1-48b4-a600-dd1785af4b77",
   "metadata": {},
   "outputs": [],
   "source": [
    "lin_model = LinearRegression()\n",
    "lin_model.fit(X_train, y_train)\n",
    "\n",
    "y_pred = lin_model.predict(X_test)\n",
    "\n",
    "print(\"MSE:\", mean_squared_error(y_test, y_pred))\n",
    "print(\"R² Score:\", r2_score(y_test, y_pred))\n",
    "\n",
    "# Plot predicted vs. actual\n",
    "plt.figure(figsize=(6, 4))\n",
    "plt.scatter(y_test, y_pred, alpha=0.6)\n",
    "plt.xlabel(\"Actual\")\n",
    "plt.ylabel(\"Predicted\")\n",
    "plt.title(\"Linear Regression Predictions\")\n",
    "plt.savefig(\"results/linear_regression_plot.png\")\n",
    "plt.show()"
   ]
  },
  {
   "cell_type": "code",
   "execution_count": null,
   "id": "3d7b0321-d263-4b28-a2a6-ae8b6985cf57",
   "metadata": {},
   "outputs": [],
   "source": [
    "df.isnull().sum()"
   ]
  },
  {
   "cell_type": "code",
   "execution_count": null,
   "id": "46c5f679-5181-499a-985a-41c2354fce27",
   "metadata": {},
   "outputs": [],
   "source": [
    "import missingno as msno\n",
    "\n",
    "msno.matrix(df)"
   ]
  },
  {
   "cell_type": "code",
   "execution_count": null,
   "id": "38ed2d4e-5b95-4888-8bfc-b274720e224c",
   "metadata": {},
   "outputs": [],
   "source": [
    "df.shape"
   ]
  },
  {
   "cell_type": "code",
   "execution_count": null,
   "id": "c1d3a962-6e7f-4874-b9f5-a87849837322",
   "metadata": {},
   "outputs": [],
   "source": [
    "#df = df.dropna(subset=[\"age\"])\n",
    "df[\"age\"] = df[\"age\"].fillna(df[\"age\"].median())"
   ]
  },
  {
   "cell_type": "code",
   "execution_count": null,
   "id": "f06f47e8-86ba-49bb-b342-0e7edda937c3",
   "metadata": {},
   "outputs": [],
   "source": [
    "X = df[features]\n",
    "y = df[target]"
   ]
  },
  {
   "cell_type": "code",
   "execution_count": null,
   "id": "e23706ba-ec9c-49cc-a428-1779e4b8b878",
   "metadata": {},
   "outputs": [],
   "source": [
    "X_train, X_test, y_train, y_test = train_test_split(X, y, test_size=0.2, random_state=42)"
   ]
  },
  {
   "cell_type": "code",
   "execution_count": null,
   "id": "0774e00d-6f62-4e35-a5ff-0c99013d71ce",
   "metadata": {},
   "outputs": [],
   "source": [
    "lin_model = LinearRegression()\n",
    "lin_model.fit(X_train, y_train)\n",
    "\n",
    "y_pred = lin_model.predict(X_test)\n",
    "\n",
    "print(\"MSE:\", mean_squared_error(y_test, y_pred))\n",
    "print(\"R² Score:\", r2_score(y_test, y_pred))\n",
    "\n",
    "plt.figure(figsize=(6, 4))\n",
    "plt.scatter(y_test, y_pred, alpha=0.6)\n",
    "plt.xlabel(\"Actual\")\n",
    "plt.ylabel(\"Predicted\")\n",
    "plt.title(\"Linear Regression Predictions\")\n",
    "plt.show()"
   ]
  },
  {
   "cell_type": "code",
   "execution_count": null,
   "id": "5a1f4d4a-3bd2-49c7-b50c-a829c13b38eb",
   "metadata": {},
   "outputs": [],
   "source": [
    "log_model = LogisticRegression(max_iter=1000)\n",
    "log_model.fit(X_train, y_train)\n",
    "\n",
    "y_pred = log_model.predict(X_test)\n",
    "\n",
    "print(\"Accuracy:\", accuracy_score(y_test, y_pred))\n",
    "print(\"Confusion Matrix:\\n\", confusion_matrix(y_test, y_pred))"
   ]
  },
  {
   "cell_type": "code",
   "execution_count": null,
   "id": "c523b26b-ea8c-4617-a6f2-e5203f80a182",
   "metadata": {},
   "outputs": [],
   "source": [
    "sns.heatmap(confusion_matrix(y_test, y_pred), annot=True, fmt='d', cmap='Blues')\n",
    "plt.xlabel(\"Predicted\")\n",
    "plt.ylabel(\"Actual\")\n",
    "plt.title(\"Confusion Matrix\")\n",
    "plt.show()"
   ]
  },
  {
   "cell_type": "code",
   "execution_count": null,
   "id": "3e77440d-a5c3-4bef-9230-cc3414422d80",
   "metadata": {},
   "outputs": [],
   "source": []
  },
  {
   "cell_type": "code",
   "execution_count": null,
   "id": "1548ae24-3de9-43f0-a72d-39e87966994f",
   "metadata": {},
   "outputs": [],
   "source": []
  }
 ],
 "metadata": {
  "kernelspec": {
   "display_name": "Python (aml25)",
   "language": "python",
   "name": "aml25"
  },
  "language_info": {
   "codemirror_mode": {
    "name": "ipython",
    "version": 3
   },
   "file_extension": ".py",
   "mimetype": "text/x-python",
   "name": "python",
   "nbconvert_exporter": "python",
   "pygments_lexer": "ipython3",
   "version": "3.11.13"
  }
 },
 "nbformat": 4,
 "nbformat_minor": 5
}

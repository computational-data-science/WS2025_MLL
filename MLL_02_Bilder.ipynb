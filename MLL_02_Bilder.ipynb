{
 "cells": [
  {
   "cell_type": "code",
   "execution_count": 7,
   "id": "1e54e370-8d61-4241-a595-65101bd60e80",
   "metadata": {},
   "outputs": [],
   "source": [
    "import seaborn as sns\n",
    "import pandas as pd\n",
    "import matplotlib.pyplot as plt\n",
    "from sklearn.model_selection import train_test_split\n",
    "from sklearn.linear_model import LogisticRegression\n",
    "from sklearn.metrics import confusion_matrix, ConfusionMatrixDisplay\n",
    "from sklearn.metrics import accuracy_score"
   ]
  },
  {
   "cell_type": "code",
   "execution_count": 2,
   "id": "86544e41-cdc7-4953-b6ff-7ded3e24944e",
   "metadata": {},
   "outputs": [],
   "source": [
    "df = sns.load_dataset(\"titanic\")"
   ]
  },
  {
   "cell_type": "code",
   "execution_count": 3,
   "id": "34c37b78-5e54-46d3-8c6d-d7b49e119951",
   "metadata": {},
   "outputs": [],
   "source": [
    "df = df[[\"survived\", \"sex\", \"age\", \"fare\"]].dropna()\n",
    "\n",
    "df[\"sex\"] = df[\"sex\"].map({\"male\": 0, \"female\": 1})"
   ]
  },
  {
   "cell_type": "code",
   "execution_count": 4,
   "id": "c6d833e6-b249-46f8-9fdf-9528430e144a",
   "metadata": {},
   "outputs": [],
   "source": [
    "plt.figure(figsize=(6, 4))\n",
    "sns.countplot(data=df, x=\"sex\", hue=\"survived\")\n",
    "plt.xticks([0, 1], [\"male\", \"female\"])\n",
    "plt.xlabel(\"Geschlecht\")\n",
    "plt.ylabel(\"Anzahl\")\n",
    "plt.title(\"Überlebensrate nach Geschlecht\")\n",
    "plt.legend(title=\"Überlebt\", labels=[\"Nein\", \"Ja\"])\n",
    "plt.tight_layout()\n",
    "plt.savefig(\"survival_by_sex.png\", dpi=300)\n",
    "plt.close()"
   ]
  },
  {
   "cell_type": "code",
   "execution_count": 5,
   "id": "bb14f309-675c-426b-9219-fbd2e30016b5",
   "metadata": {},
   "outputs": [],
   "source": [
    "X = df[[\"age\", \"fare\", \"sex\"]]\n",
    "y = df[\"survived\"]\n",
    "\n",
    "X_train, X_test, y_train, y_test = train_test_split(X, y, test_size=0.2, random_state=42)\n",
    "\n",
    "model = LogisticRegression(max_iter=1000)\n",
    "model.fit(X_train, y_train)\n",
    "y_pred = model.predict(X_test)"
   ]
  },
  {
   "cell_type": "code",
   "execution_count": 6,
   "id": "5f640e3e-6122-453c-b7b5-8581f0a888ec",
   "metadata": {},
   "outputs": [],
   "source": [
    "cm = confusion_matrix(y_test, y_pred)\n",
    "\n",
    "disp = ConfusionMatrixDisplay(confusion_matrix=cm, display_labels=[\"Nicht überlebt\", \"Überlebt\"])\n",
    "disp.plot(cmap=\"Blues\")\n",
    "plt.title(\"Konfusionsmatrix: Logistische Regression\")\n",
    "plt.tight_layout()\n",
    "plt.savefig(\"confusion_matrix.png\", dpi=300)\n",
    "plt.close()"
   ]
  },
  {
   "cell_type": "code",
   "execution_count": 8,
   "id": "7b99de35-8b63-4c21-b979-a6653777c486",
   "metadata": {},
   "outputs": [
    {
     "name": "stdout",
     "output_type": "stream",
     "text": [
      "Accuracy: 74.83%\n"
     ]
    }
   ],
   "source": [
    "acc = accuracy_score(y_test, y_pred)\n",
    "print(f\"Accuracy: {acc:.2%}\")"
   ]
  },
  {
   "cell_type": "code",
   "execution_count": null,
   "id": "f3039b30-4db5-4b0d-90a5-70258f44bb90",
   "metadata": {},
   "outputs": [],
   "source": []
  }
 ],
 "metadata": {
  "kernelspec": {
   "display_name": "Python (aml25)",
   "language": "python",
   "name": "aml25"
  },
  "language_info": {
   "codemirror_mode": {
    "name": "ipython",
    "version": 3
   },
   "file_extension": ".py",
   "mimetype": "text/x-python",
   "name": "python",
   "nbconvert_exporter": "python",
   "pygments_lexer": "ipython3",
   "version": "3.11.13"
  }
 },
 "nbformat": 4,
 "nbformat_minor": 5
}
